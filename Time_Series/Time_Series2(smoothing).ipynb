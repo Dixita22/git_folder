{
 "cells": [
  {
   "cell_type": "code",
   "execution_count": 1,
   "metadata": {},
   "outputs": [],
   "source": [
    "from __future__ import print_function\n",
    "import os\n",
    "import pandas as pd\n",
    "import numpy as np\n",
    "%matplotlib inline\n",
    "import matplotlib.pyplot as plt\n",
    "import seaborn as sns"
   ]
  },
  {
   "cell_type": "code",
   "execution_count": null,
   "metadata": {},
   "outputs": [],
   "source": []
  },
  {
   "cell_type": "code",
   "execution_count": 16,
   "metadata": {},
   "outputs": [],
   "source": [
    "ibm_df=data=pd.read_csv('ibm-common-stock-closing-prices.csv')\n",
    "ibm_df.index=ibm_df['Date']"
   ]
  },
  {
   "cell_type": "code",
   "execution_count": 8,
   "metadata": {},
   "outputs": [
    {
     "name": "stdout",
     "output_type": "stream",
     "text": [
      "Shape of dataframe: (1009, 2)\n"
     ]
    }
   ],
   "source": [
    "print('Shape of dataframe:', df.shape)"
   ]
  },
  {
   "cell_type": "code",
   "execution_count": 11,
   "metadata": {},
   "outputs": [
    {
     "data": {
      "text/html": [
       "<div>\n",
       "<style scoped>\n",
       "    .dataframe tbody tr th:only-of-type {\n",
       "        vertical-align: middle;\n",
       "    }\n",
       "\n",
       "    .dataframe tbody tr th {\n",
       "        vertical-align: top;\n",
       "    }\n",
       "\n",
       "    .dataframe thead th {\n",
       "        text-align: right;\n",
       "    }\n",
       "</style>\n",
       "<table border=\"1\" class=\"dataframe\">\n",
       "  <thead>\n",
       "    <tr style=\"text-align: right;\">\n",
       "      <th></th>\n",
       "      <th>Date</th>\n",
       "      <th>IBM common stock closing prices</th>\n",
       "    </tr>\n",
       "  </thead>\n",
       "  <tbody>\n",
       "    <tr>\n",
       "      <td>0</td>\n",
       "      <td>1962-01-02</td>\n",
       "      <td>572.00</td>\n",
       "    </tr>\n",
       "    <tr>\n",
       "      <td>1</td>\n",
       "      <td>1962-01-03</td>\n",
       "      <td>577.00</td>\n",
       "    </tr>\n",
       "    <tr>\n",
       "      <td>2</td>\n",
       "      <td>1962-01-04</td>\n",
       "      <td>571.25</td>\n",
       "    </tr>\n",
       "    <tr>\n",
       "      <td>3</td>\n",
       "      <td>1962-01-05</td>\n",
       "      <td>560.00</td>\n",
       "    </tr>\n",
       "    <tr>\n",
       "      <td>4</td>\n",
       "      <td>1962-01-08</td>\n",
       "      <td>549.50</td>\n",
       "    </tr>\n",
       "    <tr>\n",
       "      <td>5</td>\n",
       "      <td>1962-01-09</td>\n",
       "      <td>556.00</td>\n",
       "    </tr>\n",
       "    <tr>\n",
       "      <td>6</td>\n",
       "      <td>1962-01-10</td>\n",
       "      <td>557.00</td>\n",
       "    </tr>\n",
       "    <tr>\n",
       "      <td>7</td>\n",
       "      <td>1962-01-11</td>\n",
       "      <td>563.00</td>\n",
       "    </tr>\n",
       "    <tr>\n",
       "      <td>8</td>\n",
       "      <td>1962-01-12</td>\n",
       "      <td>564.00</td>\n",
       "    </tr>\n",
       "    <tr>\n",
       "      <td>9</td>\n",
       "      <td>1962-01-15</td>\n",
       "      <td>566.50</td>\n",
       "    </tr>\n",
       "  </tbody>\n",
       "</table>\n",
       "</div>"
      ],
      "text/plain": [
       "         Date  IBM common stock closing prices\n",
       "0  1962-01-02                           572.00\n",
       "1  1962-01-03                           577.00\n",
       "2  1962-01-04                           571.25\n",
       "3  1962-01-05                           560.00\n",
       "4  1962-01-08                           549.50\n",
       "5  1962-01-09                           556.00\n",
       "6  1962-01-10                           557.00\n",
       "7  1962-01-11                           563.00\n",
       "8  1962-01-12                           564.00\n",
       "9  1962-01-15                           566.50"
      ]
     },
     "execution_count": 11,
     "metadata": {},
     "output_type": "execute_result"
    }
   ],
   "source": [
    "ibm_df.head(10)"
   ]
  },
  {
   "cell_type": "code",
   "execution_count": 18,
   "metadata": {},
   "outputs": [
    {
     "data": {
      "text/html": [
       "<div>\n",
       "<style scoped>\n",
       "    .dataframe tbody tr th:only-of-type {\n",
       "        vertical-align: middle;\n",
       "    }\n",
       "\n",
       "    .dataframe tbody tr th {\n",
       "        vertical-align: top;\n",
       "    }\n",
       "\n",
       "    .dataframe thead th {\n",
       "        text-align: right;\n",
       "    }\n",
       "</style>\n",
       "<table border=\"1\" class=\"dataframe\">\n",
       "  <thead>\n",
       "    <tr style=\"text-align: right;\">\n",
       "      <th></th>\n",
       "      <th>Date</th>\n",
       "      <th>Close_Price</th>\n",
       "    </tr>\n",
       "    <tr>\n",
       "      <th>Date</th>\n",
       "      <th></th>\n",
       "      <th></th>\n",
       "    </tr>\n",
       "  </thead>\n",
       "  <tbody>\n",
       "    <tr>\n",
       "      <td>1962-01-02</td>\n",
       "      <td>1962-01-02</td>\n",
       "      <td>572.00</td>\n",
       "    </tr>\n",
       "    <tr>\n",
       "      <td>1962-01-03</td>\n",
       "      <td>1962-01-03</td>\n",
       "      <td>577.00</td>\n",
       "    </tr>\n",
       "    <tr>\n",
       "      <td>1962-01-04</td>\n",
       "      <td>1962-01-04</td>\n",
       "      <td>571.25</td>\n",
       "    </tr>\n",
       "    <tr>\n",
       "      <td>1962-01-05</td>\n",
       "      <td>1962-01-05</td>\n",
       "      <td>560.00</td>\n",
       "    </tr>\n",
       "    <tr>\n",
       "      <td>1962-01-08</td>\n",
       "      <td>1962-01-08</td>\n",
       "      <td>549.50</td>\n",
       "    </tr>\n",
       "  </tbody>\n",
       "</table>\n",
       "</div>"
      ],
      "text/plain": [
       "                  Date  Close_Price\n",
       "Date                               \n",
       "1962-01-02  1962-01-02       572.00\n",
       "1962-01-03  1962-01-03       577.00\n",
       "1962-01-04  1962-01-04       571.25\n",
       "1962-01-05  1962-01-05       560.00\n",
       "1962-01-08  1962-01-08       549.50"
      ]
     },
     "execution_count": 18,
     "metadata": {},
     "output_type": "execute_result"
    }
   ],
   "source": [
    "#Rename the second column\n",
    "\n",
    "ibm_df.rename(columns={'IBM common stock closing prices':'Close_Price'},inplace=True)\n",
    "ibm_df.head()"
   ]
  },
  {
   "cell_type": "code",
   "execution_count": 22,
   "metadata": {},
   "outputs": [
    {
     "name": "stdout",
     "output_type": "stream",
     "text": [
      "No. of rows with missing values: 0\n"
     ]
    }
   ],
   "source": [
    "#remove missing values\n",
    "\n",
    "missing=(pd.isnull(ibm_df['Date']))&(pd.isnull(ibm_df['Close_Price']))\n",
    "print('No. of rows with missing values:',missing.sum())\n",
    "ibm_df=ibm_df.loc[~missing,:]"
   ]
  },
  {
   "cell_type": "code",
   "execution_count": 32,
   "metadata": {},
   "outputs": [
    {
     "data": {
      "text/html": [
       "<div>\n",
       "<style scoped>\n",
       "    .dataframe tbody tr th:only-of-type {\n",
       "        vertical-align: middle;\n",
       "    }\n",
       "\n",
       "    .dataframe tbody tr th {\n",
       "        vertical-align: top;\n",
       "    }\n",
       "\n",
       "    .dataframe thead th {\n",
       "        text-align: right;\n",
       "    }\n",
       "</style>\n",
       "<table border=\"1\" class=\"dataframe\">\n",
       "  <thead>\n",
       "    <tr style=\"text-align: right;\">\n",
       "      <th></th>\n",
       "      <th>Date</th>\n",
       "      <th>Close_Price</th>\n",
       "      <th>5-Day Moving Avg</th>\n",
       "    </tr>\n",
       "    <tr>\n",
       "      <th>Date</th>\n",
       "      <th></th>\n",
       "      <th></th>\n",
       "      <th></th>\n",
       "    </tr>\n",
       "  </thead>\n",
       "  <tbody>\n",
       "    <tr>\n",
       "      <td>1962-01-02</td>\n",
       "      <td>1962-01-02</td>\n",
       "      <td>572.00</td>\n",
       "      <td>NaN</td>\n",
       "    </tr>\n",
       "    <tr>\n",
       "      <td>1962-01-03</td>\n",
       "      <td>1962-01-03</td>\n",
       "      <td>577.00</td>\n",
       "      <td>NaN</td>\n",
       "    </tr>\n",
       "    <tr>\n",
       "      <td>1962-01-04</td>\n",
       "      <td>1962-01-04</td>\n",
       "      <td>571.25</td>\n",
       "      <td>NaN</td>\n",
       "    </tr>\n",
       "    <tr>\n",
       "      <td>1962-01-05</td>\n",
       "      <td>1962-01-05</td>\n",
       "      <td>560.00</td>\n",
       "      <td>NaN</td>\n",
       "    </tr>\n",
       "    <tr>\n",
       "      <td>1962-01-08</td>\n",
       "      <td>1962-01-08</td>\n",
       "      <td>549.50</td>\n",
       "      <td>565.95</td>\n",
       "    </tr>\n",
       "    <tr>\n",
       "      <td>...</td>\n",
       "      <td>...</td>\n",
       "      <td>...</td>\n",
       "      <td>...</td>\n",
       "    </tr>\n",
       "    <tr>\n",
       "      <td>1965-12-28</td>\n",
       "      <td>1965-12-28</td>\n",
       "      <td>502.25</td>\n",
       "      <td>502.75</td>\n",
       "    </tr>\n",
       "    <tr>\n",
       "      <td>1965-12-29</td>\n",
       "      <td>1965-12-29</td>\n",
       "      <td>498.00</td>\n",
       "      <td>501.00</td>\n",
       "    </tr>\n",
       "    <tr>\n",
       "      <td>1965-12-30</td>\n",
       "      <td>1965-12-30</td>\n",
       "      <td>500.00</td>\n",
       "      <td>499.85</td>\n",
       "    </tr>\n",
       "    <tr>\n",
       "      <td>1965-12-31</td>\n",
       "      <td>1965-12-31</td>\n",
       "      <td>499.00</td>\n",
       "      <td>499.85</td>\n",
       "    </tr>\n",
       "    <tr>\n",
       "      <td>IBM common stock closing prices</td>\n",
       "      <td>IBM common stock closing prices</td>\n",
       "      <td>NaN</td>\n",
       "      <td>NaN</td>\n",
       "    </tr>\n",
       "  </tbody>\n",
       "</table>\n",
       "<p>1009 rows × 3 columns</p>\n",
       "</div>"
      ],
      "text/plain": [
       "                                                            Date  Close_Price  \\\n",
       "Date                                                                            \n",
       "1962-01-02                                            1962-01-02       572.00   \n",
       "1962-01-03                                            1962-01-03       577.00   \n",
       "1962-01-04                                            1962-01-04       571.25   \n",
       "1962-01-05                                            1962-01-05       560.00   \n",
       "1962-01-08                                            1962-01-08       549.50   \n",
       "...                                                          ...          ...   \n",
       "1965-12-28                                            1965-12-28       502.25   \n",
       "1965-12-29                                            1965-12-29       498.00   \n",
       "1965-12-30                                            1965-12-30       500.00   \n",
       "1965-12-31                                            1965-12-31       499.00   \n",
       "IBM common stock closing prices  IBM common stock closing prices          NaN   \n",
       "\n",
       "                                 5-Day Moving Avg  \n",
       "Date                                               \n",
       "1962-01-02                                    NaN  \n",
       "1962-01-03                                    NaN  \n",
       "1962-01-04                                    NaN  \n",
       "1962-01-05                                    NaN  \n",
       "1962-01-08                                 565.95  \n",
       "...                                           ...  \n",
       "1965-12-28                                 502.75  \n",
       "1965-12-29                                 501.00  \n",
       "1965-12-30                                 499.85  \n",
       "1965-12-31                                 499.85  \n",
       "IBM common stock closing prices               NaN  \n",
       "\n",
       "[1009 rows x 3 columns]"
      ]
     },
     "execution_count": 32,
     "metadata": {},
     "output_type": "execute_result"
    }
   ],
   "source": [
    "#To illustrate the idea of average we compute aweekly moving average taking\n",
    "#a window of 5 days instead of 7 days bcoz trading happens only during the weekdays\n",
    "\n",
    "ibm_df['5-Day Moving Avg']=ibm_df['Close_Price'].rolling(5).mean()\n",
    "ibm_df"
   ]
  },
  {
   "cell_type": "code",
   "execution_count": 30,
   "metadata": {},
   "outputs": [
    {
     "data": {
      "text/plain": [
       "Date\n",
       "1962-01-02                         572.00\n",
       "1962-01-03                         577.00\n",
       "1962-01-04                         571.25\n",
       "1962-01-05                         560.00\n",
       "1962-01-08                         549.50\n",
       "                                    ...  \n",
       "1965-12-28                         502.25\n",
       "1965-12-29                         498.00\n",
       "1965-12-30                         500.00\n",
       "1965-12-31                         499.00\n",
       "IBM common stock closing prices       NaN\n",
       "Name: Close_Price, Length: 1009, dtype: float64"
      ]
     },
     "execution_count": 30,
     "metadata": {},
     "output_type": "execute_result"
    }
   ],
   "source": [
    "ibm_df['Close_Price']"
   ]
  },
  {
   "cell_type": "code",
   "execution_count": 31,
   "metadata": {},
   "outputs": [
    {
     "data": {
      "text/plain": [
       "462.81768849206367"
      ]
     },
     "execution_count": 31,
     "metadata": {},
     "output_type": "execute_result"
    }
   ],
   "source": [
    "ibm_df['Close_Price'].mean()"
   ]
  },
  {
   "cell_type": "code",
   "execution_count": 28,
   "metadata": {},
   "outputs": [
    {
     "data": {
      "text/plain": [
       "Date\n",
       "1962-01-02                            NaN\n",
       "1962-01-03                            NaN\n",
       "1962-01-04                            NaN\n",
       "1962-01-05                            NaN\n",
       "1962-01-08                         565.95\n",
       "                                    ...  \n",
       "1965-12-28                         502.75\n",
       "1965-12-29                         501.00\n",
       "1965-12-30                         499.85\n",
       "1965-12-31                         499.85\n",
       "IBM common stock closing prices       NaN\n",
       "Name: Close_Price, Length: 1009, dtype: float64"
      ]
     },
     "execution_count": 28,
     "metadata": {},
     "output_type": "execute_result"
    }
   ],
   "source": [
    "ibm_df['Close_Price'].rolling(5).mean()"
   ]
  },
  {
   "cell_type": "code",
   "execution_count": 36,
   "metadata": {},
   "outputs": [
    {
     "data": {
      "image/png": "[encoded data removed]",
      "text/plain": [
       "<Figure size 396x396 with 2 Axes>"
      ]
     },
     "metadata": {
      "needs_background": "light"
     },
     "output_type": "display_data"
    }
   ],
   "source": [
    "fig=plt.figure(figsize=(5.5,5.5))\n",
    "ax=fig.add_subplot(2,1,1)\n",
    "ibm_df['Close_Price'].plot(ax=ax,color='b')\n",
    "ax.set_title('IBM Common Stock Close Prices during 1962-1965')\n",
    "ax=fig.add_subplot(2,1,2)\n",
    "ibm_df['5-Day Moving Avg'].plot(ax=ax,color='r')\n",
    "ax.set_title('5-day Moving Average')\n",
    "plt.tight_layout(pad=0.4,w_pad=0.5,h_pad=2.0)"
   ]
  },
  {
   "cell_type": "code",
   "execution_count": 40,
   "metadata": {},
   "outputs": [
    {
     "data": {
      "text/plain": [
       "Date\n",
       "1962-01-02                             NaN\n",
       "1962-01-03                         574.500\n",
       "1962-01-04                         574.125\n",
       "1962-01-05                         565.625\n",
       "1962-01-08                         554.750\n",
       "                                    ...   \n",
       "1965-12-28                         501.125\n",
       "1965-12-29                         500.125\n",
       "1965-12-30                         499.000\n",
       "1965-12-31                         499.500\n",
       "IBM common stock closing prices        NaN\n",
       "Name: Close_Price, Length: 1009, dtype: float64"
      ]
     },
     "execution_count": 40,
     "metadata": {},
     "output_type": "execute_result"
    }
   ],
   "source": [
    "# Calculate the moving averagesnusing 'rolling' and 'mean' functions\n",
    "\n",
    "MA2=ibm_df['Close_Price'].rolling(window=2).mean()\n",
    "TwoXMA2=MA2.rolling(window=2).mean()\n",
    "MA2"
   ]
  },
  {
   "cell_type": "code",
   "execution_count": 42,
   "metadata": {},
   "outputs": [
    {
     "data": {
      "text/plain": [
       "Date\n",
       "1962-01-02                              NaN\n",
       "1962-01-03                              NaN\n",
       "1962-01-04                              NaN\n",
       "1962-01-05                         570.0625\n",
       "1962-01-08                         564.4375\n",
       "                                     ...   \n",
       "1965-12-28                         501.7500\n",
       "1965-12-29                         499.8125\n",
       "1965-12-30                         500.0625\n",
       "1965-12-31                         499.8125\n",
       "IBM common stock closing prices         NaN\n",
       "Name: Close_Price, Length: 1009, dtype: float64"
      ]
     },
     "execution_count": 42,
     "metadata": {},
     "output_type": "execute_result"
    }
   ],
   "source": [
    "MA4=ibm_df['Close_Price'].rolling(window=4).mean()\n",
    "TwoXMA4=MA4.rolling(window=2).mean()\n",
    "MA4"
   ]
  },
  {
   "cell_type": "code",
   "execution_count": 47,
   "metadata": {},
   "outputs": [
    {
     "data": {
      "text/plain": [
       "Date\n",
       "1962-01-02                                NaN\n",
       "1962-01-03                                NaN\n",
       "1962-01-04                         573.416667\n",
       "1962-01-05                         569.416667\n",
       "1962-01-08                         560.250000\n",
       "                                      ...    \n",
       "1965-12-28                         500.416667\n",
       "1965-12-29                         500.083333\n",
       "1965-12-30                         500.083333\n",
       "1965-12-31                         499.000000\n",
       "IBM common stock closing prices           NaN\n",
       "Name: Close_Price, Length: 1009, dtype: float64"
      ]
     },
     "execution_count": 47,
     "metadata": {},
     "output_type": "execute_result"
    }
   ],
   "source": [
    "MA3=ibm_df['Close_Price'].rolling(window=3).mean()\n",
    "ThreeXMA3=MA3.rolling(window=3).mean()\n",
    "MA3"
   ]
  },
  {
   "cell_type": "code",
   "execution_count": 50,
   "metadata": {
    "scrolled": true
   },
   "outputs": [
    {
     "name": "stderr",
     "output_type": "stream",
     "text": [
      "C:\\ProgramData\\Anaconda3\\lib\\site-packages\\ipykernel_launcher.py:3: FutureWarning: \n",
      ".ix is deprecated. Please use\n",
      ".loc for label based indexing or\n",
      ".iloc for positional indexing\n",
      "\n",
      "See the documentation here:\n",
      "http://pandas.pydata.org/pandas-docs/stable/user_guide/indexing.html#ix-indexer-is-deprecated\n",
      "  This is separate from the ipykernel package so we can avoid doing imports until\n",
      "C:\\ProgramData\\Anaconda3\\lib\\site-packages\\ipykernel_launcher.py:4: FutureWarning: \n",
      ".ix is deprecated. Please use\n",
      ".loc for label based indexing or\n",
      ".iloc for positional indexing\n",
      "\n",
      "See the documentation here:\n",
      "http://pandas.pydata.org/pandas-docs/stable/user_guide/indexing.html#ix-indexer-is-deprecated\n",
      "  after removing the cwd from sys.path.\n",
      "C:\\ProgramData\\Anaconda3\\lib\\site-packages\\ipykernel_launcher.py:7: FutureWarning: \n",
      ".ix is deprecated. Please use\n",
      ".loc for label based indexing or\n",
      ".iloc for positional indexing\n",
      "\n",
      "See the documentation here:\n",
      "http://pandas.pydata.org/pandas-docs/stable/user_guide/indexing.html#ix-indexer-is-deprecated\n",
      "  import sys\n",
      "C:\\ProgramData\\Anaconda3\\lib\\site-packages\\ipykernel_launcher.py:8: FutureWarning: \n",
      ".ix is deprecated. Please use\n",
      ".loc for label based indexing or\n",
      ".iloc for positional indexing\n",
      "\n",
      "See the documentation here:\n",
      "http://pandas.pydata.org/pandas-docs/stable/user_guide/indexing.html#ix-indexer-is-deprecated\n",
      "  \n",
      "C:\\ProgramData\\Anaconda3\\lib\\site-packages\\ipykernel_launcher.py:11: FutureWarning: \n",
      ".ix is deprecated. Please use\n",
      ".loc for label based indexing or\n",
      ".iloc for positional indexing\n",
      "\n",
      "See the documentation here:\n",
      "http://pandas.pydata.org/pandas-docs/stable/user_guide/indexing.html#ix-indexer-is-deprecated\n",
      "  # This is added back by InteractiveShellApp.init_path()\n",
      "C:\\ProgramData\\Anaconda3\\lib\\site-packages\\ipykernel_launcher.py:12: FutureWarning: \n",
      ".ix is deprecated. Please use\n",
      ".loc for label based indexing or\n",
      ".iloc for positional indexing\n",
      "\n",
      "See the documentation here:\n",
      "http://pandas.pydata.org/pandas-docs/stable/user_guide/indexing.html#ix-indexer-is-deprecated\n",
      "  if sys.path[0] == '':\n"
     ]
    },
    {
     "data": {
      "text/plain": [
       "Date\n",
       "1962-01-04    573.416667\n",
       "1962-01-05    569.416667\n",
       "1962-01-08    560.250000\n",
       "1962-01-09    555.166667\n",
       "1962-01-10    554.166667\n",
       "                 ...    \n",
       "1965-12-27    501.583333\n",
       "1965-12-28    500.416667\n",
       "1965-12-29    500.083333\n",
       "1965-12-30    500.083333\n",
       "1965-12-31    499.000000\n",
       "Name: Close_Price, Length: 1006, dtype: float64"
      ]
     },
     "execution_count": 50,
     "metadata": {},
     "output_type": "execute_result"
    }
   ],
   "source": [
    "#Lets remove NAn from the above variables\n",
    "\n",
    "MA2=MA2.ix[~pd.isnull(MA2)]\n",
    "TwoXMA2=TwoXMA2.ix[~pd.isnull(TwoXMA2)]\n",
    "MA2\n",
    "\n",
    "MA4=MA4.ix[~pd.isnull(MA4)]\n",
    "TwoXMA4=TwoXMA4.ix[~pd.isnull(TwoXMA4)]\n",
    "MA4\n",
    "\n",
    "MA3=MA3.ix[~pd.isnull(MA3)]\n",
    "ThreeXMA3=ThreeXMA3.ix[~pd.isnull(ThreeXMA3)]\n",
    "MA3"
   ]
  },
  {
   "cell_type": "code",
   "execution_count": 66,
   "metadata": {},
   "outputs": [
    {
     "data": {
      "text/plain": [
       "Text(0.5, 1.0, '3 day MA and 3X3 day MA')"
      ]
     },
     "execution_count": 66,
     "metadata": {},
     "output_type": "execute_result"
    },
    {
     "data": {
      "image/png": "[encoded data removed]",
      "text/plain": [
       "<Figure size 396x396 with 3 Axes>"
      ]
     },
     "metadata": {
      "needs_background": "light"
     },
     "output_type": "display_data"
    }
   ],
   "source": [
    "f,axarr=plt.subplots(3,sharex=True)\n",
    "f.set_size_inches(5.5,5.5)\n",
    "\n",
    "ibm_df['Close_Price'].iloc[:45].plot(color='b',linestyle='-',ax=axarr[0])\n",
    "MA2.iloc[:45].plot(color='r',linestyle='-',ax=axarr[0])\n",
    "TwoXMA2.iloc[:45].plot(color='r',linestyle='--',ax=axarr[0])\n",
    "axarr[0].set_title('2 day MA and 2X2 day MA')\n",
    "\n",
    "ibm_df['Close_Price'].iloc[:45].plot(color='b',linestyle='-',ax=axarr[1])\n",
    "MA3.iloc[:45].plot(color='g',linestyle='-',ax=axarr[1])\n",
    "TwoXMA4.iloc[:45].plot(color='g',linestyle='--',ax=axarr[1])\n",
    "axarr[1].set_title('4 day MA and 2X4 day MA')\n",
    "\n",
    "ibm_df['Close_Price'].iloc[:45].plot(color='b',linestyle='-',ax=axarr[2])\n",
    "MA3.iloc[:45].plot(color='k',linestyle='-',ax=axarr[2])\n",
    "ThreeXMA3.iloc[:45].plot(color='k',linestyle='--',ax=axarr[2])\n",
    "axarr[2].set_title('3 day MA and 3X3 day MA')"
   ]
  },
  {
   "cell_type": "code",
   "execution_count": null,
   "metadata": {},
   "outputs": [],
   "source": []
  },
  {
   "cell_type": "code",
   "execution_count": null,
   "metadata": {},
   "outputs": [],
   "source": []
  }
 ],
 "metadata": {
  "kernelspec": {
   "display_name": "Python 3",
   "language": "python",
   "name": "python3"
  },
  "language_info": {
   "codemirror_mode": {
    "name": "ipython",
    "version": 3
   },
   "file_extension": ".py",
   "mimetype": "text/x-python",
   "name": "python",
   "nbconvert_exporter": "python",
   "pygments_lexer": "ipython3",
   "version": "3.7.4"
  }
 },
 "nbformat": 4,
 "nbformat_minor": 2
}
